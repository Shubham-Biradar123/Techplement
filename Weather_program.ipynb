{
 "cells": [
  {
   "cell_type": "code",
   "execution_count": 1,
   "id": "f9494daf",
   "metadata": {},
   "outputs": [
    {
     "name": "stdout",
     "output_type": "stream",
     "text": [
      "Enter your city pune\n",
      "current temperature 302.49\n",
      "current temperature feels like 301.37\n",
      "maximum temperature 302.49\n",
      "minimum temperature 302.49\n"
     ]
    }
   ],
   "source": [
    "import requests,json\n",
    "\n",
    "api_key = \"ac5a3184ae6c7ce93754efa0a8e31cc6\"\n",
    "\n",
    "base_url = \"https://api.openweathermap.org/data/2.5/weather?q=\"\n",
    "\n",
    "city_name = input(\"Enter your city \")\n",
    "\n",
    "complete_url = base_url + city_name + \"&appid=\" + api_key\n",
    "\n",
    "response = requests.get(complete_url)\n",
    "\n",
    "data = response.json()\n",
    "\n",
    "print(\"current temperature\",data[\"main\"][\"temp\"])\n",
    "print(\"current temperature feels like\",data[\"main\"][\"feels_like\"])\n",
    "print(\"maximum temperature\",data[\"main\"][\"temp_max\"])\n",
    "print(\"minimum temperature\",data[\"main\"][\"temp_min\"])\n",
    "\n"
   ]
  },
  {
   "cell_type": "code",
   "execution_count": null,
   "id": "50c9259e",
   "metadata": {},
   "outputs": [],
   "source": []
  },
  {
   "cell_type": "code",
   "execution_count": null,
   "id": "117e8cbc",
   "metadata": {},
   "outputs": [],
   "source": []
  }
 ],
 "metadata": {
  "kernelspec": {
   "display_name": "Python 3 (ipykernel)",
   "language": "python",
   "name": "python3"
  },
  "language_info": {
   "codemirror_mode": {
    "name": "ipython",
    "version": 3
   },
   "file_extension": ".py",
   "mimetype": "text/x-python",
   "name": "python",
   "nbconvert_exporter": "python",
   "pygments_lexer": "ipython3",
   "version": "3.11.5"
  }
 },
 "nbformat": 4,
 "nbformat_minor": 5
}
